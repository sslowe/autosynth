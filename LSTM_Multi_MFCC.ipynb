{
  "nbformat": 4,
  "nbformat_minor": 0,
  "metadata": {
    "colab": {
      "name": "LSTM-Multi MFCC",
      "version": "0.3.2",
      "provenance": [],
      "collapsed_sections": []
    },
    "kernelspec": {
      "name": "python3",
      "display_name": "Python 3"
    }
  },
  "cells": [
    {
      "cell_type": "code",
      "metadata": {
        "id": "38KtUUtMPaJ0",
        "colab_type": "code",
        "colab": {}
      },
      "source": [
        "import matplotlib.pyplot as plt\n",
        "import numpy as np\n",
        "import gzip\n",
        "import pickle\n",
        "import librosa\n",
        "\n",
        "import numpy\n",
        "from keras.models import Sequential\n",
        "from keras.layers import Dense\n",
        "from keras.layers import LSTM\n",
        "from keras.layers import GRU\n",
        "from keras.layers import Bidirectional\n",
        "from keras.layers import ConvLSTM2D\n",
        "from keras.utils import np_utils"
      ],
      "execution_count": 0,
      "outputs": []
    },
    {
      "cell_type": "code",
      "metadata": {
        "id": "gcGqx7TSPba3",
        "colab_type": "code",
        "outputId": "5fd94b53-f323-44f9-c69c-3016bd2a7ee2",
        "colab": {
          "base_uri": "https://localhost:8080/",
          "height": 34
        }
      },
      "source": [
        "from google.colab import drive\n",
        "drive.mount('/content/drive',force_remount=True)"
      ],
      "execution_count": 11,
      "outputs": [
        {
          "output_type": "stream",
          "text": [
            "Mounted at /content/drive\n"
          ],
          "name": "stdout"
        }
      ]
    },
    {
      "cell_type": "code",
      "metadata": {
        "id": "hGjd7qB3pP8c",
        "colab_type": "code",
        "colab": {}
      },
      "source": [
        "pickle_off=gzip.open(\"drive/My Drive/COMP562/FinalProject/Old/HELP.data\",\"rb\")\n",
        "originalData=pickle.load(pickle_off,encoding=\"latin1\")"
      ],
      "execution_count": 0,
      "outputs": []
    },
    {
      "cell_type": "code",
      "metadata": {
        "id": "7N9gWlM00ftI",
        "colab_type": "code",
        "colab": {
          "base_uri": "https://localhost:8080/",
          "height": 34
        },
        "outputId": "cd823f39-2acb-4f27-f77d-44be759f086e"
      },
      "source": [
        "range(904)"
      ],
      "execution_count": 42,
      "outputs": [
        {
          "output_type": "execute_result",
          "data": {
            "text/plain": [
              "range(0, 904)"
            ]
          },
          "metadata": {
            "tags": []
          },
          "execution_count": 42
        }
      ]
    },
    {
      "cell_type": "code",
      "metadata": {
        "id": "V0Mp9GWXz46O",
        "colab_type": "code",
        "colab": {}
      },
      "source": [
        "sampling_rate=44100\n",
        "nsamples=904;\n",
        "nmfccs=24;\n",
        "nchroma=24;\n",
        "ncontrast=6;\n",
        "nbands=6;\n",
        "ntrain=600;\n",
        "targets=42;\n",
        "nfeatures=131*(nmfccs)"
      ],
      "execution_count": 0,
      "outputs": []
    },
    {
      "cell_type": "code",
      "metadata": {
        "id": "zMjEpjlOpghx",
        "colab_type": "code",
        "colab": {}
      },
      "source": [
        "testingNSynth=np.zeros((nsamples,131,nmfccs+nchroma+6+1))\n",
        "for i in range(nsamples):\n",
        "    mfccTemp=librosa.feature.mfcc(y=np.append(np.array(originalData[i]),np.zeros(500)), sr=sampling_rate,n_mfcc=nmfccs)\n",
        "    censTemp=librosa.feature.chroma_cens(y=np.append(np.array(originalData[i]),np.zeros(500)), sr=sampling_rate,n_chroma=nchroma)\n",
        "    spectralContrastTemp=librosa.feature.spectral_contrast(y=np.append(np.array(originalData[i]),np.zeros(500)),n_bands=nbands)\n",
        "    feature=np.concatenate((mfccTemp,censTemp))\n",
        "    feature=np.concatenate((feature,spectralContrastTemp))\n",
        "    testingNSynth[i,:]=np.transpose(feature)"
      ],
      "execution_count": 0,
      "outputs": []
    },
    {
      "cell_type": "code",
      "metadata": {
        "id": "tBhuusHuPcaj",
        "colab_type": "code",
        "colab": {}
      },
      "source": [
        "pickle_off=gzip.open(\"drive/My Drive/COMP562/FinalProject/TAL-NoiseMaker_onenote.data\",\"rb\")\n",
        "emp=pickle.load(pickle_off)"
      ],
      "execution_count": 0,
      "outputs": []
    },
    {
      "cell_type": "code",
      "metadata": {
        "id": "G0r7ChI23T-B",
        "colab_type": "code",
        "colab": {}
      },
      "source": [
        "sampling_rate=44100\n",
        "nsamples=1000;\n",
        "nmfccs=24;\n",
        "nchroma=24;\n",
        "ncontrast=6;\n",
        "nbands=6;\n",
        "ntrain=600;\n",
        "targets=91;\n",
        "nfeatures=131*(nmfccs)"
      ],
      "execution_count": 0,
      "outputs": []
    },
    {
      "cell_type": "code",
      "metadata": {
        "id": "dNYNmMDa5iNM",
        "colab_type": "code",
        "colab": {
          "base_uri": "https://localhost:8080/",
          "height": 51
        },
        "outputId": "2fb52b91-8ccf-4059-d3b6-1503742cd9d0"
      },
      "source": [
        "X=np.zeros((nsamples,131,nmfccs+nchroma+6+1))\n",
        "y=np.zeros((nsamples,targets))\n",
        "for i in range(nsamples):\n",
        "    mfccTemp=librosa.feature.mfcc(y=np.array(emp[i][0]), sr=sampling_rate,n_mfcc=nmfccs)\n",
        "    censTemp=librosa.feature.chroma_cens(y=np.array(emp[i][0]), sr=sampling_rate,n_chroma=nchroma)\n",
        "    spectralContrastTemp=librosa.feature.spectral_contrast(y=np.array(emp[i][0]),n_bands=nbands)\n",
        "    feature=np.concatenate((mfccTemp,censTemp))\n",
        "    feature=np.concatenate((feature,spectralContrastTemp))\n",
        "    X[i,:]=np.transpose(feature)\n",
        "    y[i,:]=([emp[i][1][j][1] for j in range(0,targets)])"
      ],
      "execution_count": 136,
      "outputs": [
        {
          "output_type": "stream",
          "text": [
            "/usr/local/lib/python3.6/dist-packages/librosa/core/pitch.py:145: UserWarning: Trying to estimate tuning from empty frequency set.\n",
            "  warnings.warn('Trying to estimate tuning from empty frequency set.')\n"
          ],
          "name": "stderr"
        }
      ]
    },
    {
      "cell_type": "code",
      "metadata": {
        "id": "3bXL-dfV_HUk",
        "colab_type": "code",
        "colab": {}
      },
      "source": [
        "numpy.random.seed(seed=5)\n",
        "trainIndex=set(np.random.choice(1000,size=ntrain,replace=False))\n",
        "testIndex=set(np.linspace(0,999,1000))-trainIndex\n",
        "x_train=X[np.array(list(trainIndex),dtype=int),:]\n",
        "y_train=y[np.array(list(trainIndex),dtype=int),:]\n",
        "x_test=X[np.array(list(testIndex),dtype=int),:]\n",
        "y_test=y[np.array(list(testIndex),dtype=int),:]"
      ],
      "execution_count": 0,
      "outputs": []
    },
    {
      "cell_type": "code",
      "metadata": {
        "id": "Udag4VnCD9Vw",
        "colab_type": "code",
        "outputId": "d8c858ce-578c-4605-fae9-408d4a03e5aa",
        "colab": {
          "base_uri": "https://localhost:8080/",
          "height": 1411
        }
      },
      "source": [
        "model=Sequential()\n",
        "model.add(LSTM(24, input_shape=(x_train.shape[1], x_train.shape[2])))\n",
        "model.add(Dense(targets, activation='relu'))\n",
        "model.compile(optimizer='Nadam',\n",
        "              loss='mse')\n",
        "model.fit(x_train, y_train,\n",
        "          epochs=40,\n",
        "          batch_size=10)\n",
        "score = model.evaluate(x_test, y_test, batch_size=100)\n",
        "model.save('drive/My Drive/Comp562LSTM24Nadam241.h5')\n",
        "print(np.sqrt(score))\n",
        "#0.2948985627415366"
      ],
      "execution_count": 138,
      "outputs": [
        {
          "output_type": "stream",
          "text": [
            "Epoch 1/40\n",
            "600/600 [==============================] - 7s 11ms/step - loss: 0.1787\n",
            "Epoch 2/40\n",
            "600/600 [==============================] - 4s 7ms/step - loss: 0.1064\n",
            "Epoch 3/40\n",
            "600/600 [==============================] - 4s 7ms/step - loss: 0.0952\n",
            "Epoch 4/40\n",
            "600/600 [==============================] - 4s 7ms/step - loss: 0.0911\n",
            "Epoch 5/40\n",
            "600/600 [==============================] - 4s 7ms/step - loss: 0.0895\n",
            "Epoch 6/40\n",
            "600/600 [==============================] - 4s 7ms/step - loss: 0.0876\n",
            "Epoch 7/40\n",
            "600/600 [==============================] - 4s 7ms/step - loss: 0.0855\n",
            "Epoch 8/40\n",
            "600/600 [==============================] - 4s 7ms/step - loss: 0.0848\n",
            "Epoch 9/40\n",
            "600/600 [==============================] - 4s 7ms/step - loss: 0.0843\n",
            "Epoch 10/40\n",
            "600/600 [==============================] - 4s 7ms/step - loss: 0.0842\n",
            "Epoch 11/40\n",
            "600/600 [==============================] - 4s 7ms/step - loss: 0.0838\n",
            "Epoch 12/40\n",
            "600/600 [==============================] - 4s 7ms/step - loss: 0.0836\n",
            "Epoch 13/40\n",
            "600/600 [==============================] - 4s 7ms/step - loss: 0.0834\n",
            "Epoch 14/40\n",
            "600/600 [==============================] - 4s 7ms/step - loss: 0.0832\n",
            "Epoch 15/40\n",
            "600/600 [==============================] - 4s 7ms/step - loss: 0.0830\n",
            "Epoch 16/40\n",
            "600/600 [==============================] - 4s 7ms/step - loss: 0.0827\n",
            "Epoch 17/40\n",
            "600/600 [==============================] - 4s 7ms/step - loss: 0.0826\n",
            "Epoch 18/40\n",
            "600/600 [==============================] - 4s 7ms/step - loss: 0.0827\n",
            "Epoch 19/40\n",
            "600/600 [==============================] - 4s 7ms/step - loss: 0.0825\n",
            "Epoch 20/40\n",
            "600/600 [==============================] - 4s 7ms/step - loss: 0.0824\n",
            "Epoch 21/40\n",
            "600/600 [==============================] - 5s 8ms/step - loss: 0.0824\n",
            "Epoch 22/40\n",
            "600/600 [==============================] - 4s 7ms/step - loss: 0.0821\n",
            "Epoch 23/40\n",
            "600/600 [==============================] - 4s 7ms/step - loss: 0.0821\n",
            "Epoch 24/40\n",
            "600/600 [==============================] - 4s 7ms/step - loss: 0.0820\n",
            "Epoch 25/40\n",
            "600/600 [==============================] - 4s 7ms/step - loss: 0.0821\n",
            "Epoch 26/40\n",
            "600/600 [==============================] - 4s 7ms/step - loss: 0.0819\n",
            "Epoch 27/40\n",
            "600/600 [==============================] - 4s 7ms/step - loss: 0.0818\n",
            "Epoch 28/40\n",
            "600/600 [==============================] - 4s 7ms/step - loss: 0.0819\n",
            "Epoch 29/40\n",
            "600/600 [==============================] - 4s 7ms/step - loss: 0.0816\n",
            "Epoch 30/40\n",
            "600/600 [==============================] - 4s 7ms/step - loss: 0.0816\n",
            "Epoch 31/40\n",
            "600/600 [==============================] - 4s 7ms/step - loss: 0.0816\n",
            "Epoch 32/40\n",
            "600/600 [==============================] - 4s 7ms/step - loss: 0.0815\n",
            "Epoch 33/40\n",
            "600/600 [==============================] - 4s 7ms/step - loss: 0.0817\n",
            "Epoch 34/40\n",
            "600/600 [==============================] - 4s 7ms/step - loss: 0.0816\n",
            "Epoch 35/40\n",
            "600/600 [==============================] - 4s 7ms/step - loss: 0.0816\n",
            "Epoch 36/40\n",
            "600/600 [==============================] - 4s 7ms/step - loss: 0.0815\n",
            "Epoch 37/40\n",
            "600/600 [==============================] - 4s 7ms/step - loss: 0.0815\n",
            "Epoch 38/40\n",
            "600/600 [==============================] - 4s 7ms/step - loss: 0.0814\n",
            "Epoch 39/40\n",
            "600/600 [==============================] - 4s 7ms/step - loss: 0.0813\n",
            "Epoch 40/40\n",
            "600/600 [==============================] - 4s 7ms/step - loss: 0.0814\n",
            "400/400 [==============================] - 1s 3ms/step\n",
            "0.29287777441837815\n"
          ],
          "name": "stdout"
        }
      ]
    },
    {
      "cell_type": "code",
      "metadata": {
        "id": "4XTSAI9-q46m",
        "colab_type": "code",
        "colab": {}
      },
      "source": [
        "results=model.predict(testingNSynth)"
      ],
      "execution_count": 0,
      "outputs": []
    },
    {
      "cell_type": "code",
      "metadata": {
        "id": "VgZ6INX30CQx",
        "colab_type": "code",
        "colab": {}
      },
      "source": [
        "with open(\"drive/My Drive/COMP562/FinalProject/Old/NSynthEval_Tal.data\", 'wb') as f:\n",
        "  pickle.dump(results,f)\n",
        "f.close()"
      ],
      "execution_count": 0,
      "outputs": []
    }
  ]
}