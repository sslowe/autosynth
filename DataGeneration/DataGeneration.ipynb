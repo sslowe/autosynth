{
 "cells": [
  {
   "cell_type": "markdown",
   "metadata": {},
   "source": [
    "Things to note: \n",
    " - There are a lot of unnamed parameters if you investigate, but simply zeroing out the unnamed parameters kills the patch, so they must be used somehow\n",
    " - Some of these settings are binary or categorical, so I'm not sure how they are interacting with the float values."
   ]
  },
  {
   "cell_type": "code",
   "execution_count": 54,
   "metadata": {
    "collapsed": true
   },
   "outputs": [],
   "source": [
    "import librenderman as rm\n",
    "import gzip\n",
    "import cPickle"
   ]
  },
  {
   "cell_type": "code",
   "execution_count": 55,
   "metadata": {},
   "outputs": [],
   "source": [
    "#Set this to wherever you have autosynth saved\n",
    "autosynth_dir = \"/Users/samlowe/autosynth\"\n",
    "\n",
    "#Set how many samples to generate\n",
    "num_samples = 100"
   ]
  },
  {
   "cell_type": "code",
   "execution_count": 56,
   "metadata": {
    "collapsed": true
   },
   "outputs": [],
   "source": [
    "# Important settings. These are good general ones.\n",
    "sampleRate = 44100\n",
    "bufferSize = 512\n",
    "fftSize = 512\n",
    "\n",
    "# Settings to play a note and extract data from the synth.\n",
    "midiNote = 40\n",
    "midiVelocity = 127\n",
    "noteLength = 4.0\n",
    "renderLength = 5.0"
   ]
  },
  {
   "cell_type": "code",
   "execution_count": 57,
   "metadata": {
    "collapsed": true
   },
   "outputs": [],
   "source": [
    "# This will host a VST. It will render the features and audio we need.\n",
    "engine = rm.RenderEngine(sampleRate, bufferSize, fftSize)\n",
    "\n",
    "# Load the VST into the RenderEngine.\n",
    "path = autosynth_dir + \"/Synths/Synth1.vst\"\n",
    "engine.load_plugin(path)\n",
    "\n",
    "# Create a patch generator. We can initialise it to generate the correct\n",
    "# patches for a given synth by passing it a RenderEngine which has\n",
    "# loaded a instance of the synthesiser. \n",
    "generator = rm.PatchGenerator(engine)"
   ]
  },
  {
   "cell_type": "code",
   "execution_count": 58,
   "metadata": {},
   "outputs": [],
   "source": [
    "samples = []\n",
    "\n",
    "for i in range(num_samples):\n",
    "    new_patch = generator.get_random_patch()\n",
    "    engine.set_patch(new_patch)\n",
    "\n",
    "    # Render the data. \n",
    "    engine.render_patch(midiNote, midiVelocity, noteLength, renderLength)\n",
    "\n",
    "    # Get the data. Note the audio is automattically made mono, no\n",
    "    # matter what channel size for ease of use.\n",
    "    audio = engine.get_audio_frames()\n",
    "    \n",
    "    sample = (audio, new_patch)\n",
    "    samples.append(sample)"
   ]
  },
  {
   "cell_type": "code",
   "execution_count": null,
   "metadata": {},
   "outputs": [],
   "source": [
    "datafile = gzip.open('patches.data','wb')\n",
    "cPickle.dump(samples, datafile)\n",
    "datafile.close()"
   ]
  }
 ],
 "metadata": {
  "kernelspec": {
   "display_name": "Python 2",
   "language": "python",
   "name": "python2"
  },
  "language_info": {
   "codemirror_mode": {
    "name": "ipython",
    "version": 2
   },
   "file_extension": ".py",
   "mimetype": "text/x-python",
   "name": "python",
   "nbconvert_exporter": "python",
   "pygments_lexer": "ipython2",
   "version": "2.7.15"
  }
 },
 "nbformat": 4,
 "nbformat_minor": 2
}
