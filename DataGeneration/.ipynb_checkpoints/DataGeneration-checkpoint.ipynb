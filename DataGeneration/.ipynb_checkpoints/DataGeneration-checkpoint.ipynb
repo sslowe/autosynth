{
 "cells": [
  {
   "cell_type": "markdown",
   "metadata": {},
   "source": [
    "Things to note: \n",
    " - There are a lot of unnamed parameters if you investigate, but simply zeroing out the unnamed parameters kills the patch, so they must be used somehow\n",
    " - Some of these settings are binary or categorical, so I'm not sure how they are interacting with the float values."
   ]
  },
  {
   "cell_type": "code",
   "execution_count": 9,
   "metadata": {
    "collapsed": false
   },
   "outputs": [
    {
     "ename": "ImportError",
     "evalue": "No module named librenderman",
     "output_type": "error",
     "traceback": [
      "\u001b[1;31m---------------------------------------------------------------------------\u001b[0m",
      "\u001b[1;31mImportError\u001b[0m                               Traceback (most recent call last)",
      "\u001b[1;32m<ipython-input-9-58dcf75d1f96>\u001b[0m in \u001b[0;36m<module>\u001b[1;34m()\u001b[0m\n\u001b[1;32m----> 1\u001b[1;33m \u001b[1;32mimport\u001b[0m \u001b[0mlibrenderman\u001b[0m \u001b[1;32mas\u001b[0m \u001b[0mrm\u001b[0m\u001b[1;33m\u001b[0m\u001b[0m\n\u001b[0m\u001b[0;32m      2\u001b[0m \u001b[1;32mimport\u001b[0m \u001b[0mgzip\u001b[0m\u001b[1;33m\u001b[0m\u001b[0m\n\u001b[0;32m      3\u001b[0m \u001b[1;32mimport\u001b[0m \u001b[0mcPickle\u001b[0m\u001b[1;33m\u001b[0m\u001b[0m\n",
      "\u001b[1;31mImportError\u001b[0m: No module named librenderman"
     ]
    }
   ],
   "source": [
    "import librenderman as rm\n",
    "import gzip\n",
    "import cPickle"
   ]
  },
  {
   "cell_type": "code",
   "execution_count": 6,
   "metadata": {
    "collapsed": true
   },
   "outputs": [],
   "source": [
    "#Set this to wherever you have autosynth saved\n",
    "autosynth_dir = \"/Users/Ishan/Github/autosynth\"\n",
    "\n",
    "#Set how many samples to generate\n",
    "num_samples = 100"
   ]
  },
  {
   "cell_type": "code",
   "execution_count": 7,
   "metadata": {
    "collapsed": true
   },
   "outputs": [],
   "source": [
    "# Important settings. These are good general ones.\n",
    "sampleRate = 44100\n",
    "bufferSize = 512\n",
    "fftSize = 512\n",
    "\n",
    "# Settings to play a note and extract data from the synth.\n",
    "midiNote = 40\n",
    "midiVelocity = 127\n",
    "noteLength = 4.0\n",
    "renderLength = 5.0"
   ]
  },
  {
   "cell_type": "code",
   "execution_count": 8,
   "metadata": {
    "collapsed": false
   },
   "outputs": [
    {
     "ename": "NameError",
     "evalue": "name 'rm' is not defined",
     "output_type": "error",
     "traceback": [
      "\u001b[1;31m---------------------------------------------------------------------------\u001b[0m",
      "\u001b[1;31mNameError\u001b[0m                                 Traceback (most recent call last)",
      "\u001b[1;32m<ipython-input-8-0cfb222339c4>\u001b[0m in \u001b[0;36m<module>\u001b[1;34m()\u001b[0m\n\u001b[0;32m      1\u001b[0m \u001b[1;31m# This will host a VST. It will render the features and audio we need.\u001b[0m\u001b[1;33m\u001b[0m\u001b[1;33m\u001b[0m\u001b[0m\n\u001b[1;32m----> 2\u001b[1;33m \u001b[0mengine\u001b[0m \u001b[1;33m=\u001b[0m \u001b[0mrm\u001b[0m\u001b[1;33m.\u001b[0m\u001b[0mRenderEngine\u001b[0m\u001b[1;33m(\u001b[0m\u001b[0msampleRate\u001b[0m\u001b[1;33m,\u001b[0m \u001b[0mbufferSize\u001b[0m\u001b[1;33m,\u001b[0m \u001b[0mfftSize\u001b[0m\u001b[1;33m)\u001b[0m\u001b[1;33m\u001b[0m\u001b[0m\n\u001b[0m\u001b[0;32m      3\u001b[0m \u001b[1;33m\u001b[0m\u001b[0m\n\u001b[0;32m      4\u001b[0m \u001b[1;31m# Load the VST into the RenderEngine.\u001b[0m\u001b[1;33m\u001b[0m\u001b[1;33m\u001b[0m\u001b[0m\n\u001b[0;32m      5\u001b[0m \u001b[0mpath\u001b[0m \u001b[1;33m=\u001b[0m \u001b[0mautosynth_dir\u001b[0m \u001b[1;33m+\u001b[0m \u001b[1;34m\"/Synths/Synth1.vst\"\u001b[0m\u001b[1;33m\u001b[0m\u001b[0m\n",
      "\u001b[1;31mNameError\u001b[0m: name 'rm' is not defined"
     ]
    }
   ],
   "source": [
    "# This will host a VST. It will render the features and audio we need.\n",
    "engine = rm.RenderEngine(sampleRate, bufferSize, fftSize)\n",
    "\n",
    "# Load the VST into the RenderEngine.\n",
    "path = autosynth_dir + \"/Synths/Synth1.vst\"\n",
    "engine.load_plugin(path)\n",
    "\n",
    "# Create a patch generator. We can initialise it to generate the correct\n",
    "# patches for a given synth by passing it a RenderEngine which has\n",
    "# loaded a instance of the synthesiser. \n",
    "generator = rm.PatchGenerator(engine)"
   ]
  },
  {
   "cell_type": "code",
   "execution_count": 5,
   "metadata": {
    "collapsed": false
   },
   "outputs": [
    {
     "ename": "NameError",
     "evalue": "name 'num_samples' is not defined",
     "output_type": "error",
     "traceback": [
      "\u001b[1;31m---------------------------------------------------------------------------\u001b[0m",
      "\u001b[1;31mNameError\u001b[0m                                 Traceback (most recent call last)",
      "\u001b[1;32m<ipython-input-5-960a63cb4fab>\u001b[0m in \u001b[0;36m<module>\u001b[1;34m()\u001b[0m\n\u001b[0;32m      1\u001b[0m \u001b[0msamples\u001b[0m \u001b[1;33m=\u001b[0m \u001b[1;33m[\u001b[0m\u001b[1;33m]\u001b[0m\u001b[1;33m\u001b[0m\u001b[0m\n\u001b[0;32m      2\u001b[0m \u001b[1;33m\u001b[0m\u001b[0m\n\u001b[1;32m----> 3\u001b[1;33m \u001b[1;32mfor\u001b[0m \u001b[0mi\u001b[0m \u001b[1;32min\u001b[0m \u001b[0mrange\u001b[0m\u001b[1;33m(\u001b[0m\u001b[0mnum_samples\u001b[0m\u001b[1;33m)\u001b[0m\u001b[1;33m:\u001b[0m\u001b[1;33m\u001b[0m\u001b[0m\n\u001b[0m\u001b[0;32m      4\u001b[0m     \u001b[0mnew_patch\u001b[0m \u001b[1;33m=\u001b[0m \u001b[0mgenerator\u001b[0m\u001b[1;33m.\u001b[0m\u001b[0mget_random_patch\u001b[0m\u001b[1;33m(\u001b[0m\u001b[1;33m)\u001b[0m\u001b[1;33m\u001b[0m\u001b[0m\n\u001b[0;32m      5\u001b[0m     \u001b[0mengine\u001b[0m\u001b[1;33m.\u001b[0m\u001b[0mset_patch\u001b[0m\u001b[1;33m(\u001b[0m\u001b[0mnew_patch\u001b[0m\u001b[1;33m)\u001b[0m\u001b[1;33m\u001b[0m\u001b[0m\n",
      "\u001b[1;31mNameError\u001b[0m: name 'num_samples' is not defined"
     ]
    }
   ],
   "source": [
    "samples = []\n",
    "\n",
    "for i in range(num_samples):\n",
    "    new_patch = generator.get_random_patch()\n",
    "    engine.set_patch(new_patch)\n",
    "\n",
    "    # Render the data. \n",
    "    engine.render_patch(midiNote, midiVelocity, noteLength, renderLength)\n",
    "\n",
    "    # Get the data. Note the audio is automattically made mono, no\n",
    "    # matter what channel size for ease of use.\n",
    "    audio = engine.get_audio_frames()\n",
    "    \n",
    "    sample = (audio, new_patch)\n",
    "    samples.append(sample)"
   ]
  },
  {
   "cell_type": "code",
   "execution_count": 12,
   "metadata": {
    "collapsed": false
   },
   "outputs": [],
   "source": [
    "datafile = gzip.open('patches.data','wb')"
   ]
  },
  {
   "cell_type": "code",
   "execution_count": 15,
   "metadata": {
    "collapsed": false
   },
   "outputs": [],
   "source": [
    "with gzip.open('patches.data', 'rb') as f:\n",
    "    file_content = f.read()"
   ]
  }
 ],
 "metadata": {
  "kernelspec": {
   "display_name": "Python 2",
   "language": "python",
   "name": "python2"
  }
 },
 "nbformat": 4,
 "nbformat_minor": 2
}
