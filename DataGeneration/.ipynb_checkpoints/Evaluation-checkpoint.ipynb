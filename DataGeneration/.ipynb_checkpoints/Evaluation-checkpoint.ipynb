{
 "cells": [
  {
   "cell_type": "code",
   "execution_count": 3,
   "metadata": {
    "collapsed": true
   },
   "outputs": [],
   "source": [
    "import librenderman as rm\n",
    "import numpy as np\n",
    "import gzip\n",
    "import cPickle\n",
    "import os\n",
    "import scipy"
   ]
  },
  {
   "cell_type": "code",
   "execution_count": 4,
   "metadata": {},
   "outputs": [
    {
     "ename": "NameError",
     "evalue": "name 'results' is not defined",
     "output_type": "error",
     "traceback": [
      "\u001b[0;31m---------------------------------------------------------------------------\u001b[0m",
      "\u001b[0;31mNameError\u001b[0m                                 Traceback (most recent call last)",
      "\u001b[0;32m<ipython-input-4-ee237de5ac30>\u001b[0m in \u001b[0;36m<module>\u001b[0;34m()\u001b[0m\n\u001b[1;32m     15\u001b[0m \u001b[0mautosynth_dir\u001b[0m \u001b[0;34m=\u001b[0m \u001b[0mos\u001b[0m\u001b[0;34m.\u001b[0m\u001b[0mpath\u001b[0m\u001b[0;34m.\u001b[0m\u001b[0mabspath\u001b[0m\u001b[0;34m(\u001b[0m\u001b[0mos\u001b[0m\u001b[0;34m.\u001b[0m\u001b[0mpath\u001b[0m\u001b[0;34m.\u001b[0m\u001b[0mjoin\u001b[0m\u001b[0;34m(\u001b[0m\u001b[0mos\u001b[0m\u001b[0;34m.\u001b[0m\u001b[0menviron\u001b[0m\u001b[0;34m[\u001b[0m\u001b[0;34m'PWD'\u001b[0m\u001b[0;34m]\u001b[0m\u001b[0;34m,\u001b[0m \u001b[0mos\u001b[0m\u001b[0;34m.\u001b[0m\u001b[0mpardir\u001b[0m\u001b[0;34m)\u001b[0m\u001b[0;34m)\u001b[0m\u001b[0;34m\u001b[0m\u001b[0m\n\u001b[1;32m     16\u001b[0m \u001b[0;34m\u001b[0m\u001b[0m\n\u001b[0;32m---> 17\u001b[0;31m \u001b[0msamples\u001b[0m \u001b[0;34m=\u001b[0m \u001b[0mlen\u001b[0m\u001b[0;34m(\u001b[0m\u001b[0mresults\u001b[0m\u001b[0;34m)\u001b[0m\u001b[0;34m\u001b[0m\u001b[0m\n\u001b[0m\u001b[1;32m     18\u001b[0m \u001b[0;34m\u001b[0m\u001b[0m\n\u001b[1;32m     19\u001b[0m \u001b[0mengine\u001b[0m \u001b[0;34m=\u001b[0m \u001b[0mrm\u001b[0m\u001b[0;34m.\u001b[0m\u001b[0mRenderEngine\u001b[0m\u001b[0;34m(\u001b[0m\u001b[0msampleRate\u001b[0m\u001b[0;34m,\u001b[0m \u001b[0mbufferSize\u001b[0m\u001b[0;34m,\u001b[0m \u001b[0mfftSize\u001b[0m\u001b[0;34m)\u001b[0m\u001b[0;34m\u001b[0m\u001b[0m\n",
      "\u001b[0;31mNameError\u001b[0m: name 'results' is not defined"
     ]
    }
   ],
   "source": [
    "synth_options = ['Dexed', 'Obxd', 'Synth1', 'TAL-NoiseMaker', 'Tunefish4', 'ComboF']\n",
    "synth = synth_options[1]\n",
    "\n",
    "results = cPickle.load(gzip.open('Results/' + synth + '_results.data', 'rb'))\n",
    "                                 \n",
    "sampleRate = 44100\n",
    "bufferSize = 512\n",
    "fftSize = 512\n",
    "\n",
    "nmfccs = 6\n",
    "\n",
    "noteLength = 1.0\n",
    "renderLength = 1.5\n",
    "midiNote = 60\n",
    "midiVelocity = 127\n",
    "\n",
    "autosynth_dir = os.path.abspath(os.path.join(os.environ['PWD'], os.pardir))\n",
    "\n",
    "samples = len(results)\n",
    "\n",
    "engine = rm.RenderEngine(sampleRate, bufferSize, fftSize)\n",
    "\n",
    "path = autosynth_dir + \"/Synths/\" + synth + '.vst'\n",
    "engine.load_plugin(path)\n",
    "\n",
    "generator = rm.PatchGenerator(engine)"
   ]
  },
  {
   "cell_type": "code",
   "execution_count": null,
   "metadata": {
    "collapsed": true
   },
   "outputs": [],
   "source": [
    "total_dist = 0\n",
    "for i in range(samples):\n",
    "    true = results[i][0]\n",
    "    test = results[i][1]\n",
    "    true_patch = []\n",
    "    test_patch = []\n",
    "    for i in range(engine.get_plugin_parameter_size()):\n",
    "        true_patch.append((i, true[i]))\n",
    "        test_patch.append((i, test[i]))\n",
    "    \n",
    "    if synth is 'Dexed':\n",
    "            overridden_parameters = [(26, 1.),  (30, 0.),  (48, 1.),  (52, 0.), \n",
    "                        (70, 1.),  (74, 0.),  (92, 1.),  (96, 0.), \n",
    "                        (114, 1.), (118, 0.), (136, 1.), (140, 0.)]\n",
    "\n",
    "    elif synth is 'Obxd':\n",
    "            overridden_parameters = [(1, 0.),  (70, 0.)]\n",
    "            \n",
    "    elif synth is 'ComboF':\n",
    "            overridden_parameters = [(19, 1.),  (20, 0.), (21, 0.),  (22, 0.),\n",
    "                                 (23, 0.),  (24, 0.), (25, 0.),  (26, 0.),\n",
    "                                 (27, 0.),  (28, 0.), (29, 0.),  (30, 0.),\n",
    "                                 (34, 0.)]\n",
    "    \n",
    "    engine.set_patch(true_patch)\n",
    "\n",
    "    for parameter in overridden_parameters:\n",
    "        index, value = parameter\n",
    "        engine.override_plugin_parameter(index, value)\n",
    "    \n",
    "    engine.render_patch(midiNote, midiVelocity, noteLength, renderLength)\n",
    "    \n",
    "    true_audio = engine.get_audio_frames()\n",
    "    \n",
    "    engine.set_patch(test_patch)\n",
    "\n",
    "    for parameter in overridden_parameters:\n",
    "        index, value = parameter\n",
    "        engine.override_plugin_parameter(index, value)\n",
    "    \n",
    "    engine.render_patch(midiNote, midiVelocity, noteLength, renderLength)\n",
    "    \n",
    "    test_audio = engine.get_audio_frames()\n",
    "    \n",
    "    true_mfccs = librosa.feature.mfcc(y=np.array(true_audio), sr=sampleRate,n_mfcc=nmfccs)\n",
    "    test_mfccs = librosa.feature.mfcc(y=np.array(test_audio), sr=sampleRate,n_mfcc=nmfccs)\n",
    "    \n",
    "    distance = scipy.spatial.distance.euclidean(true_mfccs, test_mfccs)\n",
    "    \n",
    "    total_dist += distance\n",
    "    \n",
    "avg_dist = total_dist/float(samples)"
   ]
  }
 ],
 "metadata": {
  "kernelspec": {
   "display_name": "Python 2",
   "language": "python",
   "name": "python2"
  },
  "language_info": {
   "codemirror_mode": {
    "name": "ipython",
    "version": 2
   },
   "file_extension": ".py",
   "mimetype": "text/x-python",
   "name": "python",
   "nbconvert_exporter": "python",
   "pygments_lexer": "ipython2",
   "version": "2.7.15"
  }
 },
 "nbformat": 4,
 "nbformat_minor": 2
}
