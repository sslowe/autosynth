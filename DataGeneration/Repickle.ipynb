{
 "cells": [
  {
   "cell_type": "code",
   "execution_count": 1,
   "metadata": {
    "collapsed": true
   },
   "outputs": [],
   "source": [
    "import gzip\n",
    "import pickle\n",
    "import os"
   ]
  },
  {
   "cell_type": "code",
   "execution_count": 4,
   "metadata": {},
   "outputs": [
    {
     "name": "stdout",
     "output_type": "stream",
     "text": [
      "ComboF_LSTM_NSynth.data\n",
      "Dexed_LSTM_NSynth.data\n",
      "Obxd_LSTM_NSynth.data\n",
      "Synth1_LSTM_NSynth.data\n",
      "TAL-NoiseMaker_LSTM_NSynth.data\n",
      "Tunefish4_LSTM_NSynth.data\n"
     ]
    }
   ],
   "source": [
    "for root, dirs, files in os.walk(\"Results\", topdown=False):\n",
    "    for name in files:\n",
    "        if name != '.DS_Store':\n",
    "            print(name)\n",
    "            \"\"\"datafile = gzip.open(os.path.join(root, name),'rb')\n",
    "            data = pickle.load(datafile)\n",
    "            datafile.close()\"\"\"\n",
    "            \n",
    "            data = pickle.load(open(os.path.join(root, name),'rb'))\n",
    "            pickle.dump(data, open(os.path.join(root, name),'wb'), protocol=2)\n",
    "            \n",
    "            datafile = gzip.open(os.path.join(root, name),'wb')\n",
    "            pickle.dump(data, datafile, protocol=2)\n",
    "            datafile.close()"
   ]
  },
  {
   "cell_type": "code",
   "execution_count": null,
   "metadata": {
    "collapsed": true
   },
   "outputs": [],
   "source": []
  }
 ],
 "metadata": {
  "kernelspec": {
   "display_name": "Python 3",
   "language": "python",
   "name": "python3"
  },
  "language_info": {
   "codemirror_mode": {
    "name": "ipython",
    "version": 3
   },
   "file_extension": ".py",
   "mimetype": "text/x-python",
   "name": "python",
   "nbconvert_exporter": "python",
   "pygments_lexer": "ipython3",
   "version": "3.6.1"
  }
 },
 "nbformat": 4,
 "nbformat_minor": 2
}
